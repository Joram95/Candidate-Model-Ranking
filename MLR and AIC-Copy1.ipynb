{
 "cells": [
  {
   "cell_type": "code",
   "execution_count": null,
   "id": "94e6f199",
   "metadata": {},
   "outputs": [],
   "source": [
    "import pandas as pd\n",
    "import numpy as np\n",
    "from sklearn.linear_model import LinearRegression\n",
    "import statsmodels.api as sm"
   ]
  },
  {
   "cell_type": "code",
   "execution_count": null,
   "id": "5745491e",
   "metadata": {},
   "outputs": [],
   "source": [
    "# Load the dataset\n",
    "data = pd.read_csv(\"Multiple_Linear_regression_results.csv\") # import your own data here\n",
    "\n",
    "# Drop rows with missing values\n",
    "data.dropna(inplace=True)"
   ]
  },
  {
   "cell_type": "code",
   "execution_count": null,
   "id": "b4deb0e9",
   "metadata": {},
   "outputs": [],
   "source": [
    "# Define the list of predictor variable combinations\n",
    "predictor_combos = [['Spec_suit'], ['Spatial_res'], ['Spec_suit', 'Spatial_res']]"
   ]
  },
  {
   "cell_type": "code",
   "execution_count": null,
   "id": "beba0c2e",
   "metadata": {
    "scrolled": false
   },
   "outputs": [],
   "source": [
    "# Dictionary to store AIC scores, model equations, and R-squared values for each model\n",
    "model_results = {}\n",
    "\n",
    "# Fit MLR for each combination of predictor variables and calculate AIC, model equation, and R-squared\n",
    "for combo in predictor_combos:\n",
    "    predictors = list(combo)\n",
    "    X = sm.add_constant(data[predictors])\n",
    "    y = data['RMSE_val']\n",
    "    model = LinearRegression().fit(X, y)\n",
    "    \n",
    "    # Calculate number of parameters\n",
    "    num_params = len(predictors) + 1  # Include intercept\n",
    "    \n",
    "    # Calculate maximum likelihood\n",
    "    residuals = y - model.predict(X)\n",
    "    sigma2 = np.mean(residuals**2)\n",
    "    max_likelihood = np.prod(1 / np.sqrt(2 * np.pi * sigma2) * np.exp(-(residuals**2) / (2 * sigma2)))\n",
    "    \n",
    "    # Calculate AIC\n",
    "    aic = 2 * num_params - 2 * np.log(max_likelihood)\n",
    "    \n",
    "    # Store AIC in the dictionary\n",
    "    model_results[tuple(predictors)] = {\n",
    "        'AIC': aic,\n",
    "        'Intercept': model.intercept_,\n",
    "        'Coefficients': model.coef_[1:],  # Exclude intercept\n",
    "        'R-squared': model.score(X, y),\n",
    "    }\n",
    "\n",
    "# Print AIC scores, model equations, and R-squared values\n",
    "print(\"Model results:\")\n",
    "ranked_models = sorted(model_results.items(), key=lambda x: x[1]['AIC'])\n",
    "for predictors, results in ranked_models:\n",
    "    print(f\"Predictors: {predictors} - AIC: {results['AIC']:.4f}\")\n",
    "    equation = f\"RMSE_val = {results['Intercept']:.4f}\"\n",
    "    for i, predictor in enumerate(predictors):\n",
    "        equation += f\" + {results['Coefficients'][i]:.4f} * {predictor}\"\n",
    "    print(\"Model equation:\", equation)\n",
    "    print(\"R-squared:\", results['R-squared'])\n",
    "    print()"
   ]
  }
 ],
 "metadata": {
  "kernelspec": {
   "display_name": "Python 3 (ipykernel)",
   "language": "python",
   "name": "python3"
  },
  "language_info": {
   "codemirror_mode": {
    "name": "ipython",
    "version": 3
   },
   "file_extension": ".py",
   "mimetype": "text/x-python",
   "name": "python",
   "nbconvert_exporter": "python",
   "pygments_lexer": "ipython3",
   "version": "3.9.18"
  }
 },
 "nbformat": 4,
 "nbformat_minor": 5
}
